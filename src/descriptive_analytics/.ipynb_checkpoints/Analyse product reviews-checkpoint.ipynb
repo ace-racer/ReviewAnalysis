{
 "cells": [
  {
   "cell_type": "code",
   "execution_count": 37,
   "metadata": {},
   "outputs": [],
   "source": [
    "import pandas as pd\n",
    "import json\n",
    "import string\n",
    "import nltk"
   ]
  },
  {
   "cell_type": "code",
   "execution_count": 2,
   "metadata": {},
   "outputs": [],
   "source": [
    "import matplotlib.pyplot as plt\n",
    "import seaborn as sns\n",
    "%matplotlib inline"
   ]
  },
  {
   "cell_type": "code",
   "execution_count": 3,
   "metadata": {},
   "outputs": [],
   "source": [
    "def read_json_as_list_of_reviews(file_location:str)-> list:\n",
    "    with open(file_location, \"r\") as fr:\n",
    "        return json.loads(fr.read())"
   ]
  },
  {
   "cell_type": "code",
   "execution_count": 4,
   "metadata": {},
   "outputs": [],
   "source": [
    "reviews = read_json_as_list_of_reviews(\"../data/reviews_received/samsung-galaxy-a70-black-128-gb.json\")"
   ]
  },
  {
   "cell_type": "code",
   "execution_count": 5,
   "metadata": {},
   "outputs": [
    {
     "name": "stdout",
     "output_type": "stream",
     "text": [
      "464\n"
     ]
    }
   ],
   "source": [
    "print(len(reviews))"
   ]
  },
  {
   "cell_type": "code",
   "execution_count": 6,
   "metadata": {},
   "outputs": [
    {
     "name": "stdout",
     "output_type": "stream",
     "text": [
      "{'rating': '5', 'title': 'Super!', 'review_text': 'fabulous phone loved it....😍😘😘READ MORE', 'reviewer': 'Rahul Pal', 'review_date': 'Rahul Pal', 'review_upvotes': '965', 'review_downvotes': '201'}\n"
     ]
    }
   ],
   "source": [
    "print(reviews[0])"
   ]
  },
  {
   "cell_type": "code",
   "execution_count": 7,
   "metadata": {},
   "outputs": [
    {
     "data": {
      "text/html": [
       "<div>\n",
       "<style scoped>\n",
       "    .dataframe tbody tr th:only-of-type {\n",
       "        vertical-align: middle;\n",
       "    }\n",
       "\n",
       "    .dataframe tbody tr th {\n",
       "        vertical-align: top;\n",
       "    }\n",
       "\n",
       "    .dataframe thead th {\n",
       "        text-align: right;\n",
       "    }\n",
       "</style>\n",
       "<table border=\"1\" class=\"dataframe\">\n",
       "  <thead>\n",
       "    <tr style=\"text-align: right;\">\n",
       "      <th></th>\n",
       "      <th>rating</th>\n",
       "      <th>review_date</th>\n",
       "      <th>review_downvotes</th>\n",
       "      <th>review_text</th>\n",
       "      <th>review_upvotes</th>\n",
       "      <th>reviewer</th>\n",
       "      <th>title</th>\n",
       "    </tr>\n",
       "  </thead>\n",
       "  <tbody>\n",
       "    <tr>\n",
       "      <th>0</th>\n",
       "      <td>5</td>\n",
       "      <td>Rahul Pal</td>\n",
       "      <td>201</td>\n",
       "      <td>fabulous phone loved it....😍😘😘READ MORE</td>\n",
       "      <td>965</td>\n",
       "      <td>Rahul Pal</td>\n",
       "      <td>Super!</td>\n",
       "    </tr>\n",
       "    <tr>\n",
       "      <th>1</th>\n",
       "      <td>5</td>\n",
       "      <td>KiranKumar Gajjala</td>\n",
       "      <td>165</td>\n",
       "      <td>Simply love it.. after 2 days of usage.Battery...</td>\n",
       "      <td>799</td>\n",
       "      <td>KiranKumar Gajjala</td>\n",
       "      <td>Samsung Nailed it. Amazing Phone</td>\n",
       "    </tr>\n",
       "    <tr>\n",
       "      <th>2</th>\n",
       "      <td>4</td>\n",
       "      <td>Sethukrishnan P</td>\n",
       "      <td>157</td>\n",
       "      <td>Awesome midrange smart phone with reasonably g...</td>\n",
       "      <td>760</td>\n",
       "      <td>Sethukrishnan P</td>\n",
       "      <td>Good choice</td>\n",
       "    </tr>\n",
       "    <tr>\n",
       "      <th>3</th>\n",
       "      <td>5</td>\n",
       "      <td>manthan pandey</td>\n",
       "      <td>14</td>\n",
       "      <td>awesome  phoneREAD MORE</td>\n",
       "      <td>97</td>\n",
       "      <td>manthan pandey</td>\n",
       "      <td>Highly recommended</td>\n",
       "    </tr>\n",
       "    <tr>\n",
       "      <th>4</th>\n",
       "      <td>4</td>\n",
       "      <td>Flipkart Customer</td>\n",
       "      <td>22</td>\n",
       "      <td>fingerprint sensor not working properly.remain...</td>\n",
       "      <td>131</td>\n",
       "      <td>Flipkart Customer</td>\n",
       "      <td>Good choice</td>\n",
       "    </tr>\n",
       "  </tbody>\n",
       "</table>\n",
       "</div>"
      ],
      "text/plain": [
       "  rating         review_date review_downvotes  \\\n",
       "0      5           Rahul Pal              201   \n",
       "1      5  KiranKumar Gajjala              165   \n",
       "2      4     Sethukrishnan P              157   \n",
       "3      5      manthan pandey               14   \n",
       "4      4   Flipkart Customer               22   \n",
       "\n",
       "                                         review_text review_upvotes  \\\n",
       "0            fabulous phone loved it....😍😘😘READ MORE            965   \n",
       "1  Simply love it.. after 2 days of usage.Battery...            799   \n",
       "2  Awesome midrange smart phone with reasonably g...            760   \n",
       "3                            awesome  phoneREAD MORE             97   \n",
       "4  fingerprint sensor not working properly.remain...            131   \n",
       "\n",
       "             reviewer                             title  \n",
       "0           Rahul Pal                            Super!  \n",
       "1  KiranKumar Gajjala  Samsung Nailed it. Amazing Phone  \n",
       "2     Sethukrishnan P                       Good choice  \n",
       "3      manthan pandey                Highly recommended  \n",
       "4   Flipkart Customer                       Good choice  "
      ]
     },
     "execution_count": 7,
     "metadata": {},
     "output_type": "execute_result"
    }
   ],
   "source": [
    "reviews_df = pd.DataFrame(reviews)\n",
    "reviews_df.head()"
   ]
  },
  {
   "cell_type": "markdown",
   "metadata": {},
   "source": [
    "## Datatype conversion"
   ]
  },
  {
   "cell_type": "code",
   "execution_count": 20,
   "metadata": {},
   "outputs": [],
   "source": [
    "reviews_df[\"review_downvotes\"] = reviews_df[\"review_downvotes\"].astype(int)\n",
    "reviews_df[\"review_upvotes\"] = reviews_df[\"review_upvotes\"].astype(int)\n",
    "reviews_df[\"review_text\"] = reviews_df[\"review_text\"].astype(str)"
   ]
  },
  {
   "cell_type": "code",
   "execution_count": 21,
   "metadata": {},
   "outputs": [],
   "source": [
    "def get_upvote_to_downvote_ratio(row):\n",
    "    if row[\"review_downvotes\"] != 0:\n",
    "        return row[\"review_upvotes\"]/row[\"review_downvotes\"]\n",
    "    return 0\n",
    "\n",
    "reviews_df[\"upvote_ratio\"] = reviews_df.apply(get_upvote_to_downvote_ratio, axis=1)"
   ]
  },
  {
   "cell_type": "code",
   "execution_count": 22,
   "metadata": {},
   "outputs": [
    {
     "data": {
      "text/html": [
       "<div>\n",
       "<style scoped>\n",
       "    .dataframe tbody tr th:only-of-type {\n",
       "        vertical-align: middle;\n",
       "    }\n",
       "\n",
       "    .dataframe tbody tr th {\n",
       "        vertical-align: top;\n",
       "    }\n",
       "\n",
       "    .dataframe thead th {\n",
       "        text-align: right;\n",
       "    }\n",
       "</style>\n",
       "<table border=\"1\" class=\"dataframe\">\n",
       "  <thead>\n",
       "    <tr style=\"text-align: right;\">\n",
       "      <th></th>\n",
       "      <th>rating</th>\n",
       "      <th>review_date</th>\n",
       "      <th>review_downvotes</th>\n",
       "      <th>review_text</th>\n",
       "      <th>review_upvotes</th>\n",
       "      <th>reviewer</th>\n",
       "      <th>title</th>\n",
       "      <th>upvote_ratio</th>\n",
       "    </tr>\n",
       "  </thead>\n",
       "  <tbody>\n",
       "    <tr>\n",
       "      <th>0</th>\n",
       "      <td>5</td>\n",
       "      <td>Rahul Pal</td>\n",
       "      <td>201</td>\n",
       "      <td>fabulous phone loved it....😍😘😘READ MORE</td>\n",
       "      <td>965</td>\n",
       "      <td>Rahul Pal</td>\n",
       "      <td>Super!</td>\n",
       "      <td>4.800995</td>\n",
       "    </tr>\n",
       "    <tr>\n",
       "      <th>1</th>\n",
       "      <td>5</td>\n",
       "      <td>KiranKumar Gajjala</td>\n",
       "      <td>165</td>\n",
       "      <td>Simply love it.. after 2 days of usage.Battery...</td>\n",
       "      <td>799</td>\n",
       "      <td>KiranKumar Gajjala</td>\n",
       "      <td>Samsung Nailed it. Amazing Phone</td>\n",
       "      <td>4.842424</td>\n",
       "    </tr>\n",
       "    <tr>\n",
       "      <th>2</th>\n",
       "      <td>4</td>\n",
       "      <td>Sethukrishnan P</td>\n",
       "      <td>157</td>\n",
       "      <td>Awesome midrange smart phone with reasonably g...</td>\n",
       "      <td>760</td>\n",
       "      <td>Sethukrishnan P</td>\n",
       "      <td>Good choice</td>\n",
       "      <td>4.840764</td>\n",
       "    </tr>\n",
       "    <tr>\n",
       "      <th>3</th>\n",
       "      <td>5</td>\n",
       "      <td>manthan pandey</td>\n",
       "      <td>14</td>\n",
       "      <td>awesome  phoneREAD MORE</td>\n",
       "      <td>97</td>\n",
       "      <td>manthan pandey</td>\n",
       "      <td>Highly recommended</td>\n",
       "      <td>6.928571</td>\n",
       "    </tr>\n",
       "    <tr>\n",
       "      <th>4</th>\n",
       "      <td>4</td>\n",
       "      <td>Flipkart Customer</td>\n",
       "      <td>22</td>\n",
       "      <td>fingerprint sensor not working properly.remain...</td>\n",
       "      <td>131</td>\n",
       "      <td>Flipkart Customer</td>\n",
       "      <td>Good choice</td>\n",
       "      <td>5.954545</td>\n",
       "    </tr>\n",
       "  </tbody>\n",
       "</table>\n",
       "</div>"
      ],
      "text/plain": [
       "  rating         review_date  review_downvotes  \\\n",
       "0      5           Rahul Pal               201   \n",
       "1      5  KiranKumar Gajjala               165   \n",
       "2      4     Sethukrishnan P               157   \n",
       "3      5      manthan pandey                14   \n",
       "4      4   Flipkart Customer                22   \n",
       "\n",
       "                                         review_text  review_upvotes  \\\n",
       "0            fabulous phone loved it....😍😘😘READ MORE             965   \n",
       "1  Simply love it.. after 2 days of usage.Battery...             799   \n",
       "2  Awesome midrange smart phone with reasonably g...             760   \n",
       "3                            awesome  phoneREAD MORE              97   \n",
       "4  fingerprint sensor not working properly.remain...             131   \n",
       "\n",
       "             reviewer                             title  upvote_ratio  \n",
       "0           Rahul Pal                            Super!      4.800995  \n",
       "1  KiranKumar Gajjala  Samsung Nailed it. Amazing Phone      4.842424  \n",
       "2     Sethukrishnan P                       Good choice      4.840764  \n",
       "3      manthan pandey                Highly recommended      6.928571  \n",
       "4   Flipkart Customer                       Good choice      5.954545  "
      ]
     },
     "execution_count": 22,
     "metadata": {},
     "output_type": "execute_result"
    }
   ],
   "source": [
    "reviews_df.head()"
   ]
  },
  {
   "cell_type": "code",
   "execution_count": 38,
   "metadata": {},
   "outputs": [
    {
     "name": "stdout",
     "output_type": "stream",
     "text": [
      "!\"#$%&'()*+,-./:;<=>?@[\\]^_`{|}~\n"
     ]
    }
   ],
   "source": [
    "print(string.punctuation)"
   ]
  },
  {
   "cell_type": "code",
   "execution_count": 44,
   "metadata": {},
   "outputs": [],
   "source": [
    "from nltk.corpus import stopwords\n",
    "from nltk.tokenize import word_tokenize \n",
    "\n",
    "stop_words = set(stopwords.words('english'))\n",
    "\n",
    "def process_review_text(review_obj):\n",
    "    review_text = review_obj[0]\n",
    "    \n",
    "    # replace the read more text\n",
    "    review_text = review_text.replace(\"READ MORE\", \"\")\n",
    "    \n",
    "    # convert to lower case\n",
    "    review_text = review_text.lower()\n",
    "    \n",
    "    word_tokens = word_tokenize(review_text)\n",
    "    print(word_tokens)\n",
    "  \n",
    "    filtered_review = [w.strip() for w in word_tokens if not w.strip() in stop_words and string.punctuation]\n",
    "    print(filtered_review)\n",
    "    \n",
    "    processed_review_text = \" \".join(filtered_review)\n",
    "    \n",
    "    # https://stackoverflow.com/questions/265960/best-way-to-strip-punctuation-from-a-string\n",
    "    # review_text.translate(None, string.punctuation)\n",
    "    # review_text = review_text.translate(review_text.maketrans('', '', string.punctuation))\n",
    "    return processed_review_text"
   ]
  },
  {
   "cell_type": "code",
   "execution_count": null,
   "metadata": {},
   "outputs": [],
   "source": [
    "r = process_review_text([\"fabulous phone loved it....\\ud83d\\ude0d\\ud83d\\ude18\\ud83d\\ude18READ MORE\"])\n",
    "print(r)"
   ]
  },
  {
   "cell_type": "code",
   "execution_count": 42,
   "metadata": {},
   "outputs": [
    {
     "data": {
      "text/plain": [
       "0                        fabulous phone loved ... .😍😘😘\n",
       "1    simply love it.. 2 days usage.battery charging...\n",
       "2    awesome midrange smart phone reasonably good c...\n",
       "3                                        awesome phone\n",
       "4    fingerprint sensor working properly.remaining ...\n",
       "5    phone camera battery display awesome fingerpri...\n",
       "6                    looking hot..i loved ... ... go .\n",
       "7    amazing mid range phone . 25w super fast charg...\n",
       "8    words say , camera , battery , perfomance insa...\n",
       "9                                              awesome\n",
       "Name: processed_review_text, dtype: object"
      ]
     },
     "execution_count": 42,
     "metadata": {},
     "output_type": "execute_result"
    }
   ],
   "source": [
    "reviews_df[\"processed_review_text\"] = reviews_df[[\"review_text\"]].apply(process_review_text, axis=1)\n",
    "reviews_df[\"processed_review_text\"].head(10)"
   ]
  },
  {
   "cell_type": "raw",
   "metadata": {},
   "source": [
    "0                           fabulous phone loved it😍😘😘\n",
    "1    simply love it after 2 days of usagebattery ch...\n",
    "2    awesome midrange smart phone with reasonably g...\n",
    "3                                       awesome  phone\n",
    "4    fingerprint sensor not working properlyremaini...\n",
    "5    phone camera battery display is awesome but fi...\n",
    "6                  looking very hoti loved itgo for it\n",
    "7    amazing mid range phone 25w super fast charge ...\n",
    "8    no words to saycamerabatteryperfomance is insa...\n",
    "9                                              awesome\n",
    "Name: processed_review_text, dtype: object"
   ]
  },
  {
   "cell_type": "code",
   "execution_count": null,
   "metadata": {},
   "outputs": [],
   "source": [
    "\n"
   ]
  }
 ],
 "metadata": {
  "kernelspec": {
   "display_name": "Python 3",
   "language": "python",
   "name": "python3"
  },
  "language_info": {
   "codemirror_mode": {
    "name": "ipython",
    "version": 3
   },
   "file_extension": ".py",
   "mimetype": "text/x-python",
   "name": "python",
   "nbconvert_exporter": "python",
   "pygments_lexer": "ipython3",
   "version": "3.6.4"
  }
 },
 "nbformat": 4,
 "nbformat_minor": 2
}
